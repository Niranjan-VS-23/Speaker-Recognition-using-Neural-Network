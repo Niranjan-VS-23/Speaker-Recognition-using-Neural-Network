{
 "cells": [
  {
   "cell_type": "code",
   "execution_count": 1,
   "metadata": {
    "_cell_guid": "b1076dfc-b9ad-4769-8c92-a6c4dae69d19",
    "_uuid": "8f2839f25d086af736a60e9eeb907d3b93b6e0e5"
   },
   "outputs": [
    {
     "name": "stderr",
     "output_type": "stream",
     "text": [
      "C:\\Users\\HP\\anaconda3\\Lib\\site-packages\\pandas\\core\\arrays\\masked.py:60: UserWarning: Pandas requires version '1.3.6' or newer of 'bottleneck' (version '1.3.5' currently installed).\n",
      "  from pandas.core import (\n"
     ]
    }
   ],
   "source": [
    "\n",
    "import numpy as np # linear algebra\n",
    "import pandas as pd # data processing, CSV file I/O (e.g. pd.read_csv)\n",
    "\n",
    "\n",
    "import os\n",
    "for dirname, _, filenames in os.walk('/input'):\n",
    "    for filename in filenames:\n",
    "        print(os.path.join(dirname, filename))\n",
    "\n"
   ]
  },
  {
   "cell_type": "code",
   "execution_count": 2,
   "metadata": {},
   "outputs": [
    {
     "name": "stdout",
     "output_type": "stream",
     "text": [
      "WARNING:tensorflow:From C:\\Users\\HP\\anaconda3\\Lib\\site-packages\\keras\\src\\losses.py:2976: The name tf.losses.sparse_softmax_cross_entropy is deprecated. Please use tf.compat.v1.losses.sparse_softmax_cross_entropy instead.\n",
      "\n"
     ]
    }
   ],
   "source": [
    "import os\n",
    "import numpy as np \n",
    "import tensorflow as tf\n",
    "import matplotlib.pyplot as plt\n",
    "import pathlib\n",
    "import librosa.display\n",
    "from tqdm import tqdm\n",
    "from sklearn.metrics import confusion_matrix\n",
    "from sklearn.model_selection import train_test_split\n",
    "import os\n",
    "from scipy.io.wavfile import read\n",
    "import numpy as np"
   ]
  },
  {
   "cell_type": "code",
   "execution_count": 3,
   "metadata": {
    "execution": {
     "iopub.execute_input": "2023-12-02T18:24:58.426737Z",
     "iopub.status.busy": "2023-12-02T18:24:58.426051Z",
     "iopub.status.idle": "2023-12-02T18:24:58.430835Z",
     "shell.execute_reply": "2023-12-02T18:24:58.429937Z",
     "shell.execute_reply.started": "2023-12-02T18:24:58.426689Z"
    }
   },
   "outputs": [],
   "source": [
    "# import matplotlib.pyplot as plt\n",
    "# plt.plot(signal);"
   ]
  },
  {
   "cell_type": "code",
   "execution_count": 6,
   "metadata": {},
   "outputs": [
    {
     "data": {
      "text/plain": [
       "['Benjamin_Netanyau', 'Jens_Stoltenberg', 'Julia_Gillard']"
      ]
     },
     "execution_count": 6,
     "metadata": {},
     "output_type": "execute_result"
    }
   ],
   "source": [
    "data_dir = \"input/\"\n",
    "os.listdir(data_dir)"
   ]
  },
  {
   "cell_type": "code",
   "execution_count": 5,
   "metadata": {},
   "outputs": [
    {
     "data": {
      "text/plain": [
       "['0.wav',\n",
       " '1.wav',\n",
       " '10.wav',\n",
       " '11.wav',\n",
       " '12.wav',\n",
       " '13.wav',\n",
       " '14.wav',\n",
       " '15.wav',\n",
       " '2.wav',\n",
       " '3.wav']"
      ]
     },
     "execution_count": 5,
     "metadata": {},
     "output_type": "execute_result"
    }
   ],
   "source": [
    " nelson_madela= [item for item in os.listdir(data_dir + \"Benjamin_Netanyau\")]\n",
    "nelson_madela[:10]"
   ]
  },
  {
   "cell_type": "markdown",
   "metadata": {},
   "source": [
    "# Plot audio"
   ]
  },
  {
   "cell_type": "code",
   "execution_count": null,
   "metadata": {},
   "outputs": [],
   "source": [
    "import os\n",
    "import librosa\n",
    "import librosa.display\n",
    "import matplotlib.pyplot as plt\n",
    "\n",
    "def plot(speaker):\n",
    "    data_dir = 'input/'\n",
    "    speaker_path = os.path.join(data_dir, speaker)\n",
    "    \n",
    "    files = os.listdir(speaker_path)\n",
    "    num_files = len(files)\n",
    "    \n",
    "    \n",
    "    num_cols = 2\n",
    "    num_rows = (num_files + num_cols - 1) // num_cols\n",
    "    \n",
    "    \n",
    "    plt.figure(figsize=(15, 4 * num_rows))\n",
    "    \n",
    "    for i, item in enumerate(files, start=1):\n",
    "        file_path = os.path.join(speaker_path, item)\n",
    "        y, sr = librosa.load(file_path)\n",
    "        \n",
    "        # Create subplots\n",
    "        plt.subplot(num_rows, num_cols, i)\n",
    "        librosa.display.waveshow(y, sr=sr, alpha=0.5)\n",
    "        \n",
    "        plt.title(f'Waveform - {item}')\n",
    "        plt.xlabel('Time (s)')\n",
    "        plt.ylabel('Amplitude')\n",
    "\n",
    "    plt.tight_layout()\n",
    "    plt.show()\n",
    "\n"
   ]
  },
  {
   "cell_type": "code",
   "execution_count": null,
   "metadata": {},
   "outputs": [],
   "source": [
    "nelson_mandela_paths = plot(\"Benjamin_Netanyau/\")\n"
   ]
  },
  {
   "cell_type": "markdown",
   "metadata": {},
   "source": [
    "##  Process training dataset\n"
   ]
  },
  {
   "cell_type": "code",
   "execution_count": null,
   "metadata": {},
   "outputs": [],
   "source": [
    "def get_wav_paths(speaker):\n",
    "    speaker_path = data_dir + speaker\n",
    "    all_paths = [item for item in os.listdir(speaker_path)]\n",
    "    return all_paths"
   ]
  },
  {
   "cell_type": "code",
   "execution_count": 18,
   "metadata": {},
   "outputs": [],
   "source": [
    "benjamin_netanyau_paths = get_wav_paths(\"Benjamin_Netanyau\")\n",
    "jens_stoltenberg_paths = get_wav_paths( 'Jens_Stoltenberg')\n",
    "julia_gillard_paths = get_wav_paths(\"Julia_Gillard\")"
   ]
  },
  {
   "cell_type": "code",
   "execution_count": 19,
   "metadata": {},
   "outputs": [],
   "source": [
    "import tensorflow as tf\n",
    "\n",
    "def load_wav(wav_path, speaker):\n",
    "    wav_path = data_dir + speaker + \"/\" + wav_path\n",
    "    \n",
    "    wav_data, _ = tf.audio.decode_wav(tf.io.read_file(wav_path), desired_channels=1)\n",
    "    wav_data = tf.reshape(wav_data, [1, -1])\n",
    "    return wav_data\n",
    "\n"
   ]
  },
  {
   "cell_type": "markdown",
   "metadata": {},
   "source": [
    "# Additive White Gaussian Noise (AWGN)"
   ]
  },
  {
   "cell_type": "code",
   "execution_count": 20,
   "metadata": {},
   "outputs": [],
   "source": [
    "def add_awgn(signal, snr_dB):\n",
    "    # Calculate noise power\n",
    "    signal_power = np.mean(signal ** 2)\n",
    "    noise_power = signal_power / (10 ** (snr_dB / 10.0))\n",
    "    \n",
    "    # Generate Gaussian noise\n",
    "    noise = np.random.normal(0, np.sqrt(noise_power), len(signal))\n",
    "    \n",
    "    # Add noise to the signal\n",
    "    noisy_signal = signal + noise\n",
    "    return noisy_signal"
   ]
  },
  {
   "cell_type": "code",
   "execution_count": 21,
   "metadata": {},
   "outputs": [],
   "source": [
    "def generate_training_data(speaker_paths, speaker, label, snr_dB=15):\n",
    "    wavs, labels = [], []\n",
    "    for i in tqdm(speaker_paths):\n",
    "        wav = load_wav(i, speaker)\n",
    "        # Add AWGN to the waveform\n",
    "        noisy_wav = add_awgn(wav, snr_dB)\n",
    "        wavs.append(noisy_wav)\n",
    "        labels.append(label)\n",
    "    return wavs, labels"
   ]
  },
  {
   "cell_type": "code",
   "execution_count": 22,
   "metadata": {},
   "outputs": [
    {
     "name": "stderr",
     "output_type": "stream",
     "text": [
      "100%|██████████████████████████████████████████████████████████████████████████████████| 16/16 [00:02<00:00,  7.98it/s]\n",
      "100%|██████████████████████████████████████████████████████████████████████████████████| 16/16 [00:00<00:00, 77.22it/s]\n",
      "100%|██████████████████████████████████████████████████████████████████████████████████| 16/16 [00:00<00:00, 68.05it/s]\n"
     ]
    }
   ],
   "source": [
    "benjamin_netanyau_wavs, benjamin_netanyau_labels = generate_training_data(benjamin_netanyau_paths, \"Benjamin_Netanyau\", 2) \n",
    "jens_stoltenberg_wavs, jens_stoltenberg_labels = generate_training_data(jens_stoltenberg_paths, \"Jens_Stoltenberg\", 3) \n",
    "julia_gillard_wavs, julia_gillard_labels = generate_training_data(julia_gillard_paths, \"Julia_Gillard\", 4) "
   ]
  },
  {
   "cell_type": "code",
   "execution_count": 24,
   "metadata": {},
   "outputs": [],
   "source": [
    "# remove the extra wav for Julia Gillard\n",
    "julia_gillard_labels = julia_gillard_labels[1:]\n",
    "julia_gillard_wavs = julia_gillard_wavs[1:]"
   ]
  },
  {
   "cell_type": "code",
   "execution_count": 25,
   "metadata": {},
   "outputs": [],
   "source": [
    "all_wavs = benjamin_netanyau_wavs + jens_stoltenberg_wavs + julia_gillard_wavs\n",
    "all_labels = benjamin_netanyau_labels + jens_stoltenberg_labels + julia_gillard_labels"
   ]
  },
  {
   "cell_type": "code",
   "execution_count": 26,
   "metadata": {},
   "outputs": [],
   "source": [
    "train_wavs, test_wavs, train_labels, test_labels = train_test_split(all_wavs, all_labels, test_size=0.2)\n",
    "train_x, train_y = np.array(train_wavs), np.array(train_labels)\n",
    "test_x, test_y = np.array(test_wavs), np.array(test_labels)"
   ]
  },
  {
   "cell_type": "code",
   "execution_count": 27,
   "metadata": {},
   "outputs": [
    {
     "data": {
      "text/plain": [
       "(10, 1, 16000)"
      ]
     },
     "execution_count": 27,
     "metadata": {},
     "output_type": "execute_result"
    }
   ],
   "source": [
    "test_x.shape"
   ]
  },
  {
   "cell_type": "code",
   "execution_count": 28,
   "metadata": {},
   "outputs": [],
   "source": [
    "train_y = tf.keras.utils.to_categorical(train_y)\n",
    "test_y = tf.keras.utils.to_categorical(test_y)"
   ]
  },
  {
   "cell_type": "code",
   "execution_count": 29,
   "metadata": {},
   "outputs": [
    {
     "name": "stdout",
     "output_type": "stream",
     "text": [
      "Collecting spela\n",
      "  Downloading spela-0.0.5-py3-none-any.whl.metadata (2.4 kB)\n",
      "Requirement already satisfied: numpy in c:\\users\\ravik\\appdata\\local\\programs\\python\\python311\\lib\\site-packages (from spela) (1.26.4)\n",
      "Requirement already satisfied: librosa in c:\\users\\ravik\\appdata\\local\\programs\\python\\python311\\lib\\site-packages (from spela) (0.10.1)\n",
      "Requirement already satisfied: matplotlib in c:\\users\\ravik\\appdata\\local\\programs\\python\\python311\\lib\\site-packages (from spela) (3.8.2)\n",
      "Requirement already satisfied: audioread>=2.1.9 in c:\\users\\ravik\\appdata\\local\\programs\\python\\python311\\lib\\site-packages (from librosa->spela) (3.0.1)\n",
      "Requirement already satisfied: scipy>=1.2.0 in c:\\users\\ravik\\appdata\\local\\programs\\python\\python311\\lib\\site-packages (from librosa->spela) (1.11.3)\n",
      "Requirement already satisfied: scikit-learn>=0.20.0 in c:\\users\\ravik\\appdata\\local\\programs\\python\\python311\\lib\\site-packages (from librosa->spela) (1.4.1.post1)\n",
      "Requirement already satisfied: joblib>=0.14 in c:\\users\\ravik\\appdata\\local\\programs\\python\\python311\\lib\\site-packages (from librosa->spela) (1.3.2)\n",
      "Requirement already satisfied: decorator>=4.3.0 in c:\\users\\ravik\\appdata\\local\\programs\\python\\python311\\lib\\site-packages (from librosa->spela) (4.4.2)\n",
      "Requirement already satisfied: numba>=0.51.0 in c:\\users\\ravik\\appdata\\local\\programs\\python\\python311\\lib\\site-packages (from librosa->spela) (0.58.1)\n",
      "Requirement already satisfied: soundfile>=0.12.1 in c:\\users\\ravik\\appdata\\local\\programs\\python\\python311\\lib\\site-packages (from librosa->spela) (0.12.1)\n",
      "Requirement already satisfied: pooch>=1.0 in c:\\users\\ravik\\appdata\\local\\programs\\python\\python311\\lib\\site-packages (from librosa->spela) (1.8.1)\n",
      "Requirement already satisfied: soxr>=0.3.2 in c:\\users\\ravik\\appdata\\local\\programs\\python\\python311\\lib\\site-packages (from librosa->spela) (0.3.7)\n",
      "Requirement already satisfied: typing-extensions>=4.1.1 in c:\\users\\ravik\\appdata\\local\\programs\\python\\python311\\lib\\site-packages (from librosa->spela) (4.12.2)\n",
      "Requirement already satisfied: lazy-loader>=0.1 in c:\\users\\ravik\\appdata\\local\\programs\\python\\python311\\lib\\site-packages (from librosa->spela) (0.3)\n",
      "Requirement already satisfied: msgpack>=1.0 in c:\\users\\ravik\\appdata\\local\\programs\\python\\python311\\lib\\site-packages (from librosa->spela) (1.0.8)\n",
      "Requirement already satisfied: contourpy>=1.0.1 in c:\\users\\ravik\\appdata\\local\\programs\\python\\python311\\lib\\site-packages (from matplotlib->spela) (1.2.0)\n",
      "Requirement already satisfied: cycler>=0.10 in c:\\users\\ravik\\appdata\\roaming\\python\\python311\\site-packages (from matplotlib->spela) (0.10.0)\n",
      "Requirement already satisfied: fonttools>=4.22.0 in c:\\users\\ravik\\appdata\\local\\programs\\python\\python311\\lib\\site-packages (from matplotlib->spela) (4.46.0)\n",
      "Requirement already satisfied: kiwisolver>=1.3.1 in c:\\users\\ravik\\appdata\\local\\programs\\python\\python311\\lib\\site-packages (from matplotlib->spela) (1.4.5)\n",
      "Requirement already satisfied: packaging>=20.0 in c:\\users\\ravik\\appdata\\local\\programs\\python\\python311\\lib\\site-packages (from matplotlib->spela) (23.2)\n",
      "Requirement already satisfied: pillow>=8 in c:\\users\\ravik\\appdata\\local\\programs\\python\\python311\\lib\\site-packages (from matplotlib->spela) (10.4.0)\n",
      "Requirement already satisfied: pyparsing>=2.3.1 in c:\\users\\ravik\\appdata\\local\\programs\\python\\python311\\lib\\site-packages (from matplotlib->spela) (3.1.1)\n",
      "Requirement already satisfied: python-dateutil>=2.7 in c:\\users\\ravik\\appdata\\local\\programs\\python\\python311\\lib\\site-packages (from matplotlib->spela) (2.8.2)\n",
      "Requirement already satisfied: six in c:\\users\\ravik\\appdata\\local\\programs\\python\\python311\\lib\\site-packages (from cycler>=0.10->matplotlib->spela) (1.16.0)\n",
      "Requirement already satisfied: llvmlite<0.42,>=0.41.0dev0 in c:\\users\\ravik\\appdata\\local\\programs\\python\\python311\\lib\\site-packages (from numba>=0.51.0->librosa->spela) (0.41.1)\n",
      "Requirement already satisfied: platformdirs>=2.5.0 in c:\\users\\ravik\\appdata\\local\\programs\\python\\python311\\lib\\site-packages (from pooch>=1.0->librosa->spela) (4.0.0)\n",
      "Requirement already satisfied: requests>=2.19.0 in c:\\users\\ravik\\appdata\\local\\programs\\python\\python311\\lib\\site-packages (from pooch>=1.0->librosa->spela) (2.32.3)\n",
      "Requirement already satisfied: threadpoolctl>=2.0.0 in c:\\users\\ravik\\appdata\\local\\programs\\python\\python311\\lib\\site-packages (from scikit-learn>=0.20.0->librosa->spela) (3.2.0)\n",
      "Requirement already satisfied: cffi>=1.0 in c:\\users\\ravik\\appdata\\local\\programs\\python\\python311\\lib\\site-packages (from soundfile>=0.12.1->librosa->spela) (1.16.0)\n",
      "Requirement already satisfied: pycparser in c:\\users\\ravik\\appdata\\local\\programs\\python\\python311\\lib\\site-packages (from cffi>=1.0->soundfile>=0.12.1->librosa->spela) (2.21)\n",
      "Requirement already satisfied: charset-normalizer<4,>=2 in c:\\users\\ravik\\appdata\\local\\programs\\python\\python311\\lib\\site-packages (from requests>=2.19.0->pooch>=1.0->librosa->spela) (3.3.0)\n",
      "Requirement already satisfied: idna<4,>=2.5 in c:\\users\\ravik\\appdata\\roaming\\python\\python311\\site-packages (from requests>=2.19.0->pooch>=1.0->librosa->spela) (2.10)\n",
      "Requirement already satisfied: urllib3<3,>=1.21.1 in c:\\users\\ravik\\appdata\\local\\programs\\python\\python311\\lib\\site-packages (from requests>=2.19.0->pooch>=1.0->librosa->spela) (2.0.6)\n",
      "Requirement already satisfied: certifi>=2017.4.17 in c:\\users\\ravik\\appdata\\local\\programs\\python\\python311\\lib\\site-packages (from requests>=2.19.0->pooch>=1.0->librosa->spela) (2023.7.22)\n",
      "Downloading spela-0.0.5-py3-none-any.whl (12 kB)\n",
      "Installing collected packages: spela\n",
      "Successfully installed spela-0.0.5\n"
     ]
    },
    {
     "name": "stderr",
     "output_type": "stream",
     "text": [
      "\n",
      "[notice] A new release of pip is available: 24.0 -> 24.1.1\n",
      "[notice] To update, run: python.exe -m pip install --upgrade pip\n"
     ]
    }
   ],
   "source": [
    "!pip install spela\n",
    "from spela.spectrogram import Spectrogram \n",
    "from spela.melspectrogram import Melspectrogram"
   ]
  },
  {
   "cell_type": "code",
   "execution_count": 30,
   "metadata": {},
   "outputs": [],
   "source": [
    "def create_model(speech_feature):\n",
    "    model = tf.keras.Sequential()\n",
    "    if speech_feature == \"spectrogram\":\n",
    "        model.add(Spectrogram(input_shape=(1, 16000)))\n",
    "    elif speech_feature == \"melspectrogram\":\n",
    "         model.add(Melspectrogram(input_shape=(1, 16000), name='melgram'))\n",
    "\n",
    "    model.add(tf.keras.layers.Conv2D(265, (3, 3), activation=\"relu\"))\n",
    "    model.add(tf.keras.layers.MaxPool2D(pool_size=(3, 3)))\n",
    "    model.add(tf.keras.layers.Flatten())\n",
    "    model.add(tf.keras.layers.Dense(5, activation=\"softmax\"))\n",
    "    model.compile(optimizer=tf.keras.optimizers.Adam(lr=3e-4)\n",
    "            , loss = \"categorical_crossentropy\"\n",
    "            , metrics = [\"accuracy\"])\n",
    "    return model"
   ]
  },
  {
   "cell_type": "code",
   "execution_count": 31,
   "metadata": {},
   "outputs": [
    {
     "name": "stderr",
     "output_type": "stream",
     "text": [
      "WARNING:absl:`lr` is deprecated in Keras optimizer, please use `learning_rate` or use the legacy optimizer, e.g.,tf.keras.optimizers.legacy.Adam.\n"
     ]
    }
   ],
   "source": [
    "model = create_model(\"spectrogram\")"
   ]
  },
  {
   "cell_type": "code",
   "execution_count": 33,
   "metadata": {},
   "outputs": [
    {
     "name": "stdout",
     "output_type": "stream",
     "text": [
      "Model: \"sequential\"\n",
      "_________________________________________________________________\n",
      " Layer (type)                Output Shape              Param #   \n",
      "=================================================================\n",
      " spectrogram (Spectrogram)   (None, 257, 63, 1)        263168    \n",
      "                                                                 \n",
      " conv2d (Conv2D)             (None, 255, 61, 265)      2650      \n",
      "                                                                 \n",
      " max_pooling2d (MaxPooling2D  (None, 85, 20, 265)      0         \n",
      " )                                                               \n",
      "                                                                 \n",
      " flatten (Flatten)           (None, 450500)            0         \n",
      "                                                                 \n",
      " dense (Dense)               (None, 5)                 2252505   \n",
      "                                                                 \n",
      "=================================================================\n",
      "Total params: 2,518,323\n",
      "Trainable params: 2,518,323\n",
      "Non-trainable params: 0\n",
      "_________________________________________________________________\n"
     ]
    }
   ],
   "source": [
    "model.summary()"
   ]
  },
  {
   "cell_type": "code",
   "execution_count": 35,
   "metadata": {},
   "outputs": [
    {
     "name": "stdout",
     "output_type": "stream",
     "text": [
      "Epoch 1/20\n",
      "2/2 [==============================] - 2s 576ms/step - loss: 0.7542 - accuracy: 0.8889 - val_loss: 100.7578 - val_accuracy: 0.2000\n",
      "Epoch 2/20\n",
      "2/2 [==============================] - 2s 503ms/step - loss: 9.3311 - accuracy: 0.8333 - val_loss: 119.0660 - val_accuracy: 0.2000\n",
      "Epoch 3/20\n",
      "2/2 [==============================] - 2s 479ms/step - loss: 3.5445 - accuracy: 0.8889 - val_loss: 111.3912 - val_accuracy: 0.2000\n",
      "Epoch 4/20\n",
      "2/2 [==============================] - 2s 482ms/step - loss: 0.1973 - accuracy: 0.8889 - val_loss: 107.9031 - val_accuracy: 0.2000\n",
      "Epoch 5/20\n",
      "2/2 [==============================] - 2s 469ms/step - loss: 0.1841 - accuracy: 0.8889 - val_loss: 104.6358 - val_accuracy: 0.2000\n",
      "Epoch 6/20\n",
      "2/2 [==============================] - 2s 473ms/step - loss: 0.1703 - accuracy: 0.9167 - val_loss: 101.6746 - val_accuracy: 0.4000\n",
      "Epoch 7/20\n",
      "2/2 [==============================] - 3s 801ms/step - loss: 0.1563 - accuracy: 0.9444 - val_loss: 99.0989 - val_accuracy: 0.4000\n",
      "Epoch 8/20\n",
      "2/2 [==============================] - 2s 459ms/step - loss: 0.1383 - accuracy: 0.9444 - val_loss: 96.7522 - val_accuracy: 0.5000\n",
      "Epoch 9/20\n",
      "2/2 [==============================] - 2s 506ms/step - loss: 0.1274 - accuracy: 0.9444 - val_loss: 94.4013 - val_accuracy: 0.5000\n",
      "Epoch 10/20\n",
      "2/2 [==============================] - 2s 472ms/step - loss: 0.1106 - accuracy: 0.9444 - val_loss: 92.1978 - val_accuracy: 0.5000\n",
      "Epoch 11/20\n",
      "2/2 [==============================] - 2s 471ms/step - loss: 0.1004 - accuracy: 0.9444 - val_loss: 90.2688 - val_accuracy: 0.5000\n",
      "Epoch 12/20\n",
      "2/2 [==============================] - 2s 442ms/step - loss: 0.0958 - accuracy: 0.9444 - val_loss: 88.5854 - val_accuracy: 0.5000\n",
      "Epoch 13/20\n",
      "2/2 [==============================] - 2s 491ms/step - loss: 0.0973 - accuracy: 0.9722 - val_loss: 87.1459 - val_accuracy: 0.5000\n",
      "Epoch 14/20\n",
      "2/2 [==============================] - 2s 457ms/step - loss: 0.1017 - accuracy: 0.9722 - val_loss: 85.9444 - val_accuracy: 0.5000\n",
      "Epoch 15/20\n",
      "2/2 [==============================] - 2s 469ms/step - loss: 0.1063 - accuracy: 0.9722 - val_loss: 84.9608 - val_accuracy: 0.5000\n",
      "Epoch 16/20\n",
      "2/2 [==============================] - 2s 456ms/step - loss: 0.1094 - accuracy: 0.9722 - val_loss: 84.1717 - val_accuracy: 0.5000\n",
      "Epoch 17/20\n",
      "2/2 [==============================] - 2s 458ms/step - loss: 0.1100 - accuracy: 0.9722 - val_loss: 83.5469 - val_accuracy: 0.5000\n",
      "Epoch 18/20\n",
      "2/2 [==============================] - 2s 441ms/step - loss: 0.1084 - accuracy: 0.9722 - val_loss: 83.0577 - val_accuracy: 0.5000\n",
      "Epoch 19/20\n",
      "2/2 [==============================] - 2s 434ms/step - loss: 0.1050 - accuracy: 0.9722 - val_loss: 82.6798 - val_accuracy: 0.5000\n",
      "Epoch 20/20\n",
      "2/2 [==============================] - 2s 418ms/step - loss: 0.1003 - accuracy: 0.9722 - val_loss: 82.3879 - val_accuracy: 0.5000\n"
     ]
    }
   ],
   "source": [
    "history=model.fit(x=train_x, y=train_y, epochs=20, validation_data=(test_x, test_y))\n"
   ]
  },
  {
   "cell_type": "code",
   "execution_count": 36,
   "metadata": {},
   "outputs": [
    {
     "name": "stdout",
     "output_type": "stream",
     "text": [
      "1/1 [==============================] - 0s 182ms/step - loss: 82.3879 - accuracy: 0.5000\n",
      "loss: 82.4\t accuracy: 50.0%\n"
     ]
    }
   ],
   "source": [
    "test_loss, test_accuracy = model.evaluate(test_x, test_y)\n",
    "print(f\"loss: {test_loss:0.3}\\t accuracy: {test_accuracy:0.1%}\")"
   ]
  },
  {
   "cell_type": "code",
   "execution_count": 37,
   "metadata": {},
   "outputs": [
    {
     "data": {
      "image/png": "[encoded data removed]",
      "text/plain": [
       "<Figure size 640x480 with 1 Axes>"
      ]
     },
     "metadata": {},
     "output_type": "display_data"
    }
   ],
   "source": [
    "model.save('speaker.h5')\n",
    "plt.plot(history.history['accuracy'], label='accuracy')\n",
    "plt.plot(history.history['val_accuracy'], label = 'val_accuracy')\n",
    "plt.xlabel('Epoch')\n",
    "plt.ylabel('Accuracy')\n",
    "plt.ylim([0, 1])\n",
    "plt.legend(loc='lower right');"
   ]
  },
  {
   "cell_type": "code",
   "execution_count": 38,
   "metadata": {},
   "outputs": [
    {
     "data": {
      "image/png": "[encoded data removed]",
      "text/plain": [
       "<Figure size 640x480 with 1 Axes>"
      ]
     },
     "metadata": {},
     "output_type": "display_data"
    }
   ],
   "source": [
    "plt.plot(history.history['loss'], label='loss')\n",
    "plt.plot(history.history['val_loss'], label = 'val_loss')\n",
    "plt.xlabel('Epoch')\n",
    "plt.ylabel('Loss')\n",
    "plt.ylim([0, 1])\n",
    "plt.legend(loc='lower right')\n",
    "plt.show();"
   ]
  },
  {
   "cell_type": "markdown",
   "metadata": {},
   "source": [
    "# Test the predication"
   ]
  },
  {
   "cell_type": "code",
   "execution_count": 39,
   "metadata": {},
   "outputs": [
    {
     "data": {
      "text/plain": [
       "(36, 1, 16000)"
      ]
     },
     "execution_count": 39,
     "metadata": {},
     "output_type": "execute_result"
    }
   ],
   "source": [
    "train_x.shape"
   ]
  },
  {
   "cell_type": "code",
   "execution_count": 40,
   "metadata": {},
   "outputs": [
    {
     "name": "stdout",
     "output_type": "stream",
     "text": [
      "1/1 [==============================] - 0s 375ms/step\n"
     ]
    }
   ],
   "source": [
    "y_predication = model.predict(test_x)"
   ]
  },
  {
   "cell_type": "code",
   "execution_count": 41,
   "metadata": {},
   "outputs": [
    {
     "data": {
      "text/plain": [
       "array([0., 0., 0., 1., 0.], dtype=float32)"
      ]
     },
     "execution_count": 41,
     "metadata": {},
     "output_type": "execute_result"
    }
   ],
   "source": [
    "y_predication[0]"
   ]
  },
  {
   "cell_type": "code",
   "execution_count": 42,
   "metadata": {},
   "outputs": [],
   "source": [
    "predicted_label = np.argmax(y_predication[0])"
   ]
  },
  {
   "cell_type": "code",
   "execution_count": 43,
   "metadata": {},
   "outputs": [
    {
     "data": {
      "text/plain": [
       "3"
      ]
     },
     "execution_count": 43,
     "metadata": {},
     "output_type": "execute_result"
    }
   ],
   "source": [
    "predicted_label"
   ]
  },
  {
   "cell_type": "code",
   "execution_count": 45,
   "metadata": {},
   "outputs": [
    {
     "data": {
      "text/plain": [
       "array([[ 0.00580512, -0.02913751,  0.2245246 , ...,  0.02487861,\n",
       "        -0.00859918,  0.12335883]], dtype=float32)"
      ]
     },
     "execution_count": 45,
     "metadata": {},
     "output_type": "execute_result"
    }
   ],
   "source": [
    "test_x[3]"
   ]
  },
  {
   "cell_type": "code",
   "execution_count": 46,
   "metadata": {},
   "outputs": [
    {
     "name": "stdout",
     "output_type": "stream",
     "text": [
      "1/1 [==============================] - 0s 174ms/step\n",
      "1/1 [==============================] - 0s 188ms/step\n",
      "1/1 [==============================] - 0s 171ms/step\n",
      "1/1 [==============================] - 0s 173ms/step\n",
      "1/1 [==============================] - 0s 174ms/step\n",
      "1/1 [==============================] - 0s 173ms/step\n",
      "1/1 [==============================] - 0s 189ms/step\n",
      "1/1 [==============================] - 0s 189ms/step\n",
      "1/1 [==============================] - 0s 189ms/step\n",
      "1/1 [==============================] - 0s 188ms/step\n"
     ]
    }
   ],
   "source": [
    "y_pred=[]\n",
    "for  i in range(10):\n",
    "    y_predication = model.predict(test_x)\n",
    "    predicted_label = np.argmax(y_predication[i])\n",
    "    y_pred.append(predicted_label)    "
   ]
  },
  {
   "cell_type": "code",
   "execution_count": 47,
   "metadata": {},
   "outputs": [
    {
     "data": {
      "text/plain": [
       "0    3\n",
       "1    2\n",
       "2    3\n",
       "3    2\n",
       "4    4\n",
       "5    2\n",
       "6    2\n",
       "7    2\n",
       "8    3\n",
       "9    4\n",
       "dtype: int64"
      ]
     },
     "execution_count": 47,
     "metadata": {},
     "output_type": "execute_result"
    }
   ],
   "source": [
    "labels = np.argmax(test_y, axis=1)\n",
    "pd.Series(labels)"
   ]
  },
  {
   "cell_type": "code",
   "execution_count": 48,
   "metadata": {},
   "outputs": [
    {
     "ename": "KeyError",
     "evalue": "3",
     "output_type": "error",
     "traceback": [
      "\u001b[1;31m---------------------------------------------------------------------------\u001b[0m",
      "\u001b[1;31mKeyError\u001b[0m                                  Traceback (most recent call last)",
      "Cell \u001b[1;32mIn[48], line 7\u001b[0m\n\u001b[0;32m      1\u001b[0m class_names \u001b[38;5;241m=\u001b[39m {\u001b[38;5;241m1\u001b[39m: \u001b[38;5;124m\"\u001b[39m\u001b[38;5;124mJens_Stoltenberg\u001b[39m\u001b[38;5;124m\"\u001b[39m, \u001b[38;5;241m0\u001b[39m: \u001b[38;5;124m\"\u001b[39m\u001b[38;5;124mBenjamin_Netanyau\u001b[39m\u001b[38;5;124m\"\u001b[39m,\u001b[38;5;241m2\u001b[39m:\u001b[38;5;124m'\u001b[39m\u001b[38;5;124mJulia_Gillard\u001b[39m\u001b[38;5;124m'\u001b[39m}\n\u001b[0;32m      3\u001b[0m \u001b[38;5;28;01mfor\u001b[39;00m index \u001b[38;5;129;01min\u001b[39;00m \u001b[38;5;28mrange\u001b[39m(\u001b[38;5;241m6\u001b[39m):\n\u001b[0;32m      4\u001b[0m         \u001b[38;5;28mprint\u001b[39m(y_pred[index],\n\u001b[0;32m      5\u001b[0m             \u001b[38;5;124m\"\u001b[39m\u001b[38;5;124mSpeaker:\u001b[39m\u001b[38;5;130;01m\\33\u001b[39;00m\u001b[38;5;132;01m{}\u001b[39;00m\u001b[38;5;124m \u001b[39m\u001b[38;5;132;01m{}\u001b[39;00m\u001b[38;5;130;01m\\33\u001b[39;00m\u001b[38;5;124m[0m\u001b[39m\u001b[38;5;130;01m\\t\u001b[39;00m\u001b[38;5;124mPredicted:\u001b[39m\u001b[38;5;130;01m\\33\u001b[39;00m\u001b[38;5;132;01m{}\u001b[39;00m\u001b[38;5;124m \u001b[39m\u001b[38;5;132;01m{}\u001b[39;00m\u001b[38;5;130;01m\\33\u001b[39;00m\u001b[38;5;124m[0m\u001b[39m\u001b[38;5;124m\"\u001b[39m\u001b[38;5;241m.\u001b[39mformat(\n\u001b[0;32m      6\u001b[0m                 \u001b[38;5;124m\"\u001b[39m\u001b[38;5;124m[92m\u001b[39m\u001b[38;5;124m\"\u001b[39m \u001b[38;5;28;01mif\u001b[39;00m labels[index] \u001b[38;5;241m==\u001b[39m y_pred[index] \u001b[38;5;28;01melse\u001b[39;00m \u001b[38;5;124m\"\u001b[39m\u001b[38;5;124m[91m\u001b[39m\u001b[38;5;124m\"\u001b[39m,\n\u001b[1;32m----> 7\u001b[0m                 \u001b[43mclass_names\u001b[49m\u001b[43m[\u001b[49m\u001b[43mlabels\u001b[49m\u001b[43m[\u001b[49m\u001b[43mindex\u001b[49m\u001b[43m]\u001b[49m\u001b[43m]\u001b[49m,\n\u001b[0;32m      8\u001b[0m                 \u001b[38;5;124m\"\u001b[39m\u001b[38;5;124m[92m\u001b[39m\u001b[38;5;124m\"\u001b[39m \u001b[38;5;28;01mif\u001b[39;00m labels[index] \u001b[38;5;241m==\u001b[39m y_pred[index] \u001b[38;5;28;01melse\u001b[39;00m \u001b[38;5;124m\"\u001b[39m\u001b[38;5;124m[91m\u001b[39m\u001b[38;5;124m\"\u001b[39m,\n\u001b[0;32m      9\u001b[0m                 class_names[y_pred[index]],\n\u001b[0;32m     10\u001b[0m             )\n\u001b[0;32m     11\u001b[0m         )\n\u001b[0;32m     12\u001b[0m         \u001b[38;5;28;01mif\u001b[39;00m labels[index] \u001b[38;5;241m==\u001b[39my_pred[index]:\n\u001b[0;32m     13\u001b[0m             \u001b[38;5;28mprint\u001b[39m(\u001b[38;5;124m\"\u001b[39m\u001b[38;5;124mWelcome\u001b[39m\u001b[38;5;124m\"\u001b[39m)\n",
      "\u001b[1;31mKeyError\u001b[0m: 3"
     ]
    }
   ],
   "source": [
    "class_names = {1: \"Jens_Stoltenberg\", 0: \"Benjamin_Netanyau\",2:'Julia_Gillard'}\n",
    "\n",
    "for index in range(6):\n",
    "        print(y_pred[index],\n",
    "            \"Speaker:\\33{} {}\\33[0m\\tPredicted:\\33{} {}\\33[0m\".format(\n",
    "                \"[92m\" if labels[index] == y_pred[index] else \"[91m\",\n",
    "                class_names[labels[index]],\n",
    "                \"[92m\" if labels[index] == y_pred[index] else \"[91m\",\n",
    "                class_names[y_pred[index]],\n",
    "            )\n",
    "        )\n",
    "        if labels[index] ==y_pred[index]:\n",
    "            print(\"Welcome\")\n",
    "        else:\n",
    "            print(\"Sorry\")\n",
    "        print(\"The speaker is\" if labels[index] == y_pred[index] else \"\", class_names[y_pred[index]])"
   ]
  },
  {
   "cell_type": "markdown",
   "metadata": {},
   "source": [
    "# Inference "
   ]
  },
  {
   "cell_type": "code",
   "execution_count": 49,
   "metadata": {},
   "outputs": [],
   "source": [
    "from pydub import AudioSegment\n",
    "def convert_mp3_to_wav(input_path, output_path):\n",
    "    audio = AudioSegment.from_mp3(input_path)\n",
    "    audio.export(output_path, format=\"wav\")\n",
    "\n"
   ]
  },
  {
   "cell_type": "code",
   "execution_count": 50,
   "metadata": {},
   "outputs": [],
   "source": [
    "input_path2 = \"/kaggle/input/test-1/Voicy_Straight forward negotiating.mp3\"\n",
    "output_path2 = \"/kaggle/working/output2.wav\"\n",
    "input_path3 = \"/kaggle/input/test-1/Voicy_They have a cleverness .mp3\"\n",
    "output_path3 = \"/kaggle/working/output3.wav\""
   ]
  },
  {
   "cell_type": "code",
   "execution_count": 40,
   "metadata": {
    "execution": {
     "iopub.execute_input": "2023-12-02T18:29:01.301360Z",
     "iopub.status.busy": "2023-12-02T18:29:01.300950Z",
     "iopub.status.idle": "2023-12-02T18:29:01.606991Z",
     "shell.execute_reply": "2023-12-02T18:29:01.605934Z",
     "shell.execute_reply.started": "2023-12-02T18:29:01.301326Z"
    }
   },
   "outputs": [],
   "source": [
    "convert_mp3_to_wav(input_path2, output_path2)\n"
   ]
  },
  {
   "cell_type": "code",
   "execution_count": 41,
   "metadata": {
    "execution": {
     "iopub.execute_input": "2023-12-02T18:29:01.608859Z",
     "iopub.status.busy": "2023-12-02T18:29:01.608464Z",
     "iopub.status.idle": "2023-12-02T18:29:01.812546Z",
     "shell.execute_reply": "2023-12-02T18:29:01.811521Z",
     "shell.execute_reply.started": "2023-12-02T18:29:01.608817Z"
    }
   },
   "outputs": [],
   "source": [
    "convert_mp3_to_wav(input_path3, output_path3)"
   ]
  },
  {
   "cell_type": "code",
   "execution_count": 51,
   "metadata": {},
   "outputs": [
    {
     "name": "stdout",
     "output_type": "stream",
     "text": [
      "Shape of the resulting array: (2, 1, 16000)\n"
     ]
    }
   ],
   "source": [
    "import tensorflow as tf\n",
    "import numpy as np\n",
    "\n",
    "audio_arrays = []\n",
    "\n",
    "file_paths = [\"0.wav\", \"1.wav\"]\n",
    "\n",
    "for file_path in file_paths:\n",
    "    wav_data, _ = tf.audio.decode_wav(tf.io.read_file(file_path), desired_channels=1, desired_samples=16000)\n",
    "    reshaped_array = tf.reshape(wav_data, [1, 1, 16000])\n",
    "    reshaped_array=add_awgn(reshaped_array,15)\n",
    "    audio_arrays.append(reshaped_array)\n",
    "audio_data_array = np.concatenate(audio_arrays, axis=0)\n",
    "\n",
    "print(\"Shape of the resulting array:\", audio_data_array.shape)\n",
    "\n",
    "        "
   ]
  },
  {
   "cell_type": "code",
   "execution_count": 52,
   "metadata": {},
   "outputs": [
    {
     "data": {
      "text/plain": [
       "(2, 1, 16000)"
      ]
     },
     "execution_count": 52,
     "metadata": {},
     "output_type": "execute_result"
    }
   ],
   "source": [
    "audio_data_array.shape"
   ]
  },
  {
   "cell_type": "code",
   "execution_count": 57,
   "metadata": {},
   "outputs": [
    {
     "name": "stdout",
     "output_type": "stream",
     "text": [
      "1/1 [==============================] - 0s 166ms/step\n",
      "3\n",
      "Julia_Gillard\n",
      "1/1 [==============================] - 0s 173ms/step\n",
      "2\n",
      "Jens_Stoltenberg\n"
     ]
    }
   ],
   "source": [
    "class_names = {2: \"Jens_Stoltenberg\", 1: \"Benjamin_Netanyau\",3:'Julia_Gillard'}\n",
    "y_pred=[]\n",
    "for  i in range(2):\n",
    "    y_predication = model.predict(test_x)\n",
    "    predicted_label = np.argmax(y_predication[i])\n",
    "    print(predicted_label)\n",
    "    y_pred.append(predicted_label)\n",
    "    print(class_names[y_pred[i]])"
   ]
  },
  {
   "cell_type": "code",
   "execution_count": 59,
   "metadata": {},
   "outputs": [
    {
     "ename": "ValueError",
     "evalue": "Unknown layer: 'Spectrogram'. Please ensure you are using a `keras.utils.custom_object_scope` and that this object is included in the scope. See https://www.tensorflow.org/guide/keras/save_and_serialize#registering_the_custom_object for details.",
     "output_type": "error",
     "traceback": [
      "\u001b[1;31m---------------------------------------------------------------------------\u001b[0m",
      "\u001b[1;31mValueError\u001b[0m                                Traceback (most recent call last)",
      "Cell \u001b[1;32mIn[59], line 8\u001b[0m\n\u001b[0;32m      5\u001b[0m MODEL_PATH \u001b[38;5;241m=\u001b[39m\u001b[38;5;124m'\u001b[39m\u001b[38;5;124mspeaker.h5\u001b[39m\u001b[38;5;124m'\u001b[39m\n\u001b[0;32m      7\u001b[0m \u001b[38;5;66;03m# Load your trained model\u001b[39;00m\n\u001b[1;32m----> 8\u001b[0m spmodel \u001b[38;5;241m=\u001b[39m \u001b[43mload_model\u001b[49m\u001b[43m(\u001b[49m\u001b[43mMODEL_PATH\u001b[49m\u001b[43m)\u001b[49m\n\u001b[0;32m     10\u001b[0m audio_arrays \u001b[38;5;241m=\u001b[39m []\n\u001b[0;32m     12\u001b[0m file_paths \u001b[38;5;241m=\u001b[39m \u001b[38;5;124m\"\u001b[39m\u001b[38;5;124m0.wav\u001b[39m\u001b[38;5;124m\"\u001b[39m\n",
      "File \u001b[1;32m~\\AppData\\Local\\Programs\\Python\\Python311\\Lib\\site-packages\\keras\\saving\\saving_api.py:212\u001b[0m, in \u001b[0;36mload_model\u001b[1;34m(filepath, custom_objects, compile, safe_mode, **kwargs)\u001b[0m\n\u001b[0;32m    204\u001b[0m     \u001b[38;5;28;01mreturn\u001b[39;00m saving_lib\u001b[38;5;241m.\u001b[39mload_model(\n\u001b[0;32m    205\u001b[0m         filepath,\n\u001b[0;32m    206\u001b[0m         custom_objects\u001b[38;5;241m=\u001b[39mcustom_objects,\n\u001b[0;32m    207\u001b[0m         \u001b[38;5;28mcompile\u001b[39m\u001b[38;5;241m=\u001b[39m\u001b[38;5;28mcompile\u001b[39m,\n\u001b[0;32m    208\u001b[0m         safe_mode\u001b[38;5;241m=\u001b[39msafe_mode,\n\u001b[0;32m    209\u001b[0m     )\n\u001b[0;32m    211\u001b[0m \u001b[38;5;66;03m# Legacy case.\u001b[39;00m\n\u001b[1;32m--> 212\u001b[0m \u001b[38;5;28;01mreturn\u001b[39;00m \u001b[43mlegacy_sm_saving_lib\u001b[49m\u001b[38;5;241;43m.\u001b[39;49m\u001b[43mload_model\u001b[49m\u001b[43m(\u001b[49m\n\u001b[0;32m    213\u001b[0m \u001b[43m    \u001b[49m\u001b[43mfilepath\u001b[49m\u001b[43m,\u001b[49m\u001b[43m \u001b[49m\u001b[43mcustom_objects\u001b[49m\u001b[38;5;241;43m=\u001b[39;49m\u001b[43mcustom_objects\u001b[49m\u001b[43m,\u001b[49m\u001b[43m \u001b[49m\u001b[38;5;28;43mcompile\u001b[39;49m\u001b[38;5;241;43m=\u001b[39;49m\u001b[38;5;28;43mcompile\u001b[39;49m\u001b[43m,\u001b[49m\u001b[43m \u001b[49m\u001b[38;5;241;43m*\u001b[39;49m\u001b[38;5;241;43m*\u001b[39;49m\u001b[43mkwargs\u001b[49m\n\u001b[0;32m    214\u001b[0m \u001b[43m\u001b[49m\u001b[43m)\u001b[49m\n",
      "File \u001b[1;32m~\\AppData\\Local\\Programs\\Python\\Python311\\Lib\\site-packages\\keras\\utils\\traceback_utils.py:70\u001b[0m, in \u001b[0;36mfilter_traceback.<locals>.error_handler\u001b[1;34m(*args, **kwargs)\u001b[0m\n\u001b[0;32m     67\u001b[0m     filtered_tb \u001b[38;5;241m=\u001b[39m _process_traceback_frames(e\u001b[38;5;241m.\u001b[39m__traceback__)\n\u001b[0;32m     68\u001b[0m     \u001b[38;5;66;03m# To get the full stack trace, call:\u001b[39;00m\n\u001b[0;32m     69\u001b[0m     \u001b[38;5;66;03m# `tf.debugging.disable_traceback_filtering()`\u001b[39;00m\n\u001b[1;32m---> 70\u001b[0m     \u001b[38;5;28;01mraise\u001b[39;00m e\u001b[38;5;241m.\u001b[39mwith_traceback(filtered_tb) \u001b[38;5;28;01mfrom\u001b[39;00m \u001b[38;5;28;01mNone\u001b[39;00m\n\u001b[0;32m     71\u001b[0m \u001b[38;5;28;01mfinally\u001b[39;00m:\n\u001b[0;32m     72\u001b[0m     \u001b[38;5;28;01mdel\u001b[39;00m filtered_tb\n",
      "File \u001b[1;32m~\\AppData\\Local\\Programs\\Python\\Python311\\Lib\\site-packages\\keras\\saving\\legacy\\serialization.py:368\u001b[0m, in \u001b[0;36mclass_and_config_for_serialized_keras_object\u001b[1;34m(config, module_objects, custom_objects, printable_module_name)\u001b[0m\n\u001b[0;32m    364\u001b[0m \u001b[38;5;28mcls\u001b[39m \u001b[38;5;241m=\u001b[39m object_registration\u001b[38;5;241m.\u001b[39mget_registered_object(\n\u001b[0;32m    365\u001b[0m     class_name, custom_objects, module_objects\n\u001b[0;32m    366\u001b[0m )\n\u001b[0;32m    367\u001b[0m \u001b[38;5;28;01mif\u001b[39;00m \u001b[38;5;28mcls\u001b[39m \u001b[38;5;129;01mis\u001b[39;00m \u001b[38;5;28;01mNone\u001b[39;00m:\n\u001b[1;32m--> 368\u001b[0m     \u001b[38;5;28;01mraise\u001b[39;00m \u001b[38;5;167;01mValueError\u001b[39;00m(\n\u001b[0;32m    369\u001b[0m         \u001b[38;5;124mf\u001b[39m\u001b[38;5;124m\"\u001b[39m\u001b[38;5;124mUnknown \u001b[39m\u001b[38;5;132;01m{\u001b[39;00mprintable_module_name\u001b[38;5;132;01m}\u001b[39;00m\u001b[38;5;124m: \u001b[39m\u001b[38;5;124m'\u001b[39m\u001b[38;5;132;01m{\u001b[39;00mclass_name\u001b[38;5;132;01m}\u001b[39;00m\u001b[38;5;124m'\u001b[39m\u001b[38;5;124m. \u001b[39m\u001b[38;5;124m\"\u001b[39m\n\u001b[0;32m    370\u001b[0m         \u001b[38;5;124m\"\u001b[39m\u001b[38;5;124mPlease ensure you are using a `keras.utils.custom_object_scope` \u001b[39m\u001b[38;5;124m\"\u001b[39m\n\u001b[0;32m    371\u001b[0m         \u001b[38;5;124m\"\u001b[39m\u001b[38;5;124mand that this object is included in the scope. See \u001b[39m\u001b[38;5;124m\"\u001b[39m\n\u001b[0;32m    372\u001b[0m         \u001b[38;5;124m\"\u001b[39m\u001b[38;5;124mhttps://www.tensorflow.org/guide/keras/save_and_serialize\u001b[39m\u001b[38;5;124m\"\u001b[39m\n\u001b[0;32m    373\u001b[0m         \u001b[38;5;124m\"\u001b[39m\u001b[38;5;124m#registering_the_custom_object for details.\u001b[39m\u001b[38;5;124m\"\u001b[39m\n\u001b[0;32m    374\u001b[0m     )\n\u001b[0;32m    376\u001b[0m cls_config \u001b[38;5;241m=\u001b[39m config[\u001b[38;5;124m\"\u001b[39m\u001b[38;5;124mconfig\u001b[39m\u001b[38;5;124m\"\u001b[39m]\n\u001b[0;32m    377\u001b[0m \u001b[38;5;66;03m# Check if `cls_config` is a list. If it is a list, return the class and the\u001b[39;00m\n\u001b[0;32m    378\u001b[0m \u001b[38;5;66;03m# associated class configs for recursively deserialization. This case will\u001b[39;00m\n\u001b[0;32m    379\u001b[0m \u001b[38;5;66;03m# happen on the old version of sequential model (e.g. `keras_version` ==\u001b[39;00m\n\u001b[0;32m    380\u001b[0m \u001b[38;5;66;03m# \"2.0.6\"), which is serialized in a different structure, for example\u001b[39;00m\n\u001b[0;32m    381\u001b[0m \u001b[38;5;66;03m# \"{'class_name': 'Sequential',\u001b[39;00m\n\u001b[0;32m    382\u001b[0m \u001b[38;5;66;03m#   'config': [{'class_name': 'Embedding', 'config': ...}, {}, ...]}\".\u001b[39;00m\n",
      "\u001b[1;31mValueError\u001b[0m: Unknown layer: 'Spectrogram'. Please ensure you are using a `keras.utils.custom_object_scope` and that this object is included in the scope. See https://www.tensorflow.org/guide/keras/save_and_serialize#registering_the_custom_object for details."
     ]
    }
   ],
   "source": [
    "import tensorflow as tf\n",
    "import numpy as np\n",
    "from tensorflow.keras.models import load_model\n",
    "\n",
    "MODEL_PATH ='speaker.h5'\n",
    "\n",
    "# Load your trained model\n",
    "spmodel = load_model(MODEL_PATH)\n",
    "\n",
    "audio_arrays = []\n",
    "\n",
    "file_paths = \"0.wav\"\n",
    "\n",
    "wav_data, _ = tf.audio.decode_wav(tf.io.read_file(file_path), desired_channels=1, desired_samples=16000)\n",
    "reshaped_array = tf.reshape(wav_data, [1, 1, 16000])\n",
    "reshaped_array=add_awgn(reshaped_array,15)\n",
    "audio_arrays.append(reshaped_array)\n",
    "audio_data_array = np.concatenate(audio_arrays, axis=0)\n",
    "\n",
    "print(\"Shape of the resulting array:\", audio_data_array.shape)\n",
    "audio_data_array.shape\n",
    "class_names = {2: \"Jens_Stoltenberg\", 1: \"Benjamin_Netanyau\",3:'Julia_Gillard'}\n",
    "y_pred=[]\n",
    "y_predication = spmodel.predict(test_x)\n",
    "predicted_label = np.argmax(y_predication[i])\n",
    "print(predicted_label)\n",
    "y_pred.append(predicted_label)\n",
    "print(class_names[y_pred[i]])"
   ]
  },
  {
   "cell_type": "code",
   "execution_count": null,
   "metadata": {},
   "outputs": [],
   "source": []
  }
 ],
 "metadata": {
  "kaggle": {
   "accelerator": "nvidiaTeslaT4",
   "dataSources": [
    {
     "datasetId": 470244,
     "sourceId": 881667,
     "sourceType": "datasetVersion"
    },
    {
     "datasetId": 4097593,
     "sourceId": 7107323,
     "sourceType": "datasetVersion"
    }
   ],
   "dockerImageVersionId": 30588,
   "isGpuEnabled": true,
   "isInternetEnabled": true,
   "language": "python",
   "sourceType": "notebook"
  },
  "kernelspec": {
   "display_name": "Python 3 (ipykernel)",
   "language": "python",
   "name": "python3"
  },
  "language_info": {
   "codemirror_mode": {
    "name": "ipython",
    "version": 3
   },
   "file_extension": ".py",
   "mimetype": "text/x-python",
   "name": "python",
   "nbconvert_exporter": "python",
   "pygments_lexer": "ipython3",
   "version": "3.11.5"
  }
 },
 "nbformat": 4,
 "nbformat_minor": 4
}
